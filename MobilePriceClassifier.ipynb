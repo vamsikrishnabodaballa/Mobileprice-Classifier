{
  "nbformat": 4,
  "nbformat_minor": 0,
  "metadata": {
    "colab": {
      "name": "MobilePriceClassifier.ipynb",
      "provenance": [],
      "collapsed_sections": []
    },
    "kernelspec": {
      "name": "python3",
      "display_name": "Python 3"
    }
  },
  "cells": [
    {
      "cell_type": "markdown",
      "metadata": {
        "id": "6duSEH64eM5R"
      },
      "source": [
        "# Mobile Price Range predictor\n",
        "\n",
        "\n",
        "1. Mobile price prediction using set of features.\n",
        "\n",
        "2. It is a classification problem.\n",
        "\n",
        "\n",
        "\n"
      ]
    },
    {
      "cell_type": "markdown",
      "metadata": {
        "id": "3TRkWZmYmpPb"
      },
      "source": [
        "**Algorithms going to be used**\n",
        "-  Softmax classifier \n",
        "-  Deep Neural Networks"
      ]
    },
    {
      "cell_type": "code",
      "metadata": {
        "id": "ayWC77WeVpnW"
      },
      "source": [
        "import sklearn\n",
        "import seaborn as sns\n",
        "import matplotlib.pyplot as plt\n",
        "import pandas as pd\n",
        "import numpy as np"
      ],
      "execution_count": 112,
      "outputs": []
    },
    {
      "cell_type": "code",
      "metadata": {
        "colab": {
          "base_uri": "https://localhost:8080/",
          "height": 224
        },
        "id": "CbmNEb0BWKA9",
        "outputId": "9bcea179-964e-430a-bdd2-5fd729b80e8e"
      },
      "source": [
        "train_data=pd.read_csv('/content/mobile-train.csv',encoding='latin')\n",
        "train_data.head()"
      ],
      "execution_count": 7,
      "outputs": [
        {
          "output_type": "execute_result",
          "data": {
            "text/html": [
              "<div>\n",
              "<style scoped>\n",
              "    .dataframe tbody tr th:only-of-type {\n",
              "        vertical-align: middle;\n",
              "    }\n",
              "\n",
              "    .dataframe tbody tr th {\n",
              "        vertical-align: top;\n",
              "    }\n",
              "\n",
              "    .dataframe thead th {\n",
              "        text-align: right;\n",
              "    }\n",
              "</style>\n",
              "<table border=\"1\" class=\"dataframe\">\n",
              "  <thead>\n",
              "    <tr style=\"text-align: right;\">\n",
              "      <th></th>\n",
              "      <th>battery_power</th>\n",
              "      <th>blue</th>\n",
              "      <th>clock_speed</th>\n",
              "      <th>dual_sim</th>\n",
              "      <th>fc</th>\n",
              "      <th>four_g</th>\n",
              "      <th>int_memory</th>\n",
              "      <th>m_dep</th>\n",
              "      <th>mobile_wt</th>\n",
              "      <th>n_cores</th>\n",
              "      <th>pc</th>\n",
              "      <th>px_height</th>\n",
              "      <th>px_width</th>\n",
              "      <th>ram</th>\n",
              "      <th>sc_h</th>\n",
              "      <th>sc_w</th>\n",
              "      <th>talk_time</th>\n",
              "      <th>three_g</th>\n",
              "      <th>touch_screen</th>\n",
              "      <th>wifi</th>\n",
              "      <th>price_range</th>\n",
              "    </tr>\n",
              "  </thead>\n",
              "  <tbody>\n",
              "    <tr>\n",
              "      <th>0</th>\n",
              "      <td>842</td>\n",
              "      <td>0</td>\n",
              "      <td>2.2</td>\n",
              "      <td>0</td>\n",
              "      <td>1</td>\n",
              "      <td>0</td>\n",
              "      <td>7</td>\n",
              "      <td>0.6</td>\n",
              "      <td>188</td>\n",
              "      <td>2</td>\n",
              "      <td>2</td>\n",
              "      <td>20</td>\n",
              "      <td>756</td>\n",
              "      <td>2549</td>\n",
              "      <td>9</td>\n",
              "      <td>7</td>\n",
              "      <td>19</td>\n",
              "      <td>0</td>\n",
              "      <td>0</td>\n",
              "      <td>1</td>\n",
              "      <td>1</td>\n",
              "    </tr>\n",
              "    <tr>\n",
              "      <th>1</th>\n",
              "      <td>1021</td>\n",
              "      <td>1</td>\n",
              "      <td>0.5</td>\n",
              "      <td>1</td>\n",
              "      <td>0</td>\n",
              "      <td>1</td>\n",
              "      <td>53</td>\n",
              "      <td>0.7</td>\n",
              "      <td>136</td>\n",
              "      <td>3</td>\n",
              "      <td>6</td>\n",
              "      <td>905</td>\n",
              "      <td>1988</td>\n",
              "      <td>2631</td>\n",
              "      <td>17</td>\n",
              "      <td>3</td>\n",
              "      <td>7</td>\n",
              "      <td>1</td>\n",
              "      <td>1</td>\n",
              "      <td>0</td>\n",
              "      <td>2</td>\n",
              "    </tr>\n",
              "    <tr>\n",
              "      <th>2</th>\n",
              "      <td>563</td>\n",
              "      <td>1</td>\n",
              "      <td>0.5</td>\n",
              "      <td>1</td>\n",
              "      <td>2</td>\n",
              "      <td>1</td>\n",
              "      <td>41</td>\n",
              "      <td>0.9</td>\n",
              "      <td>145</td>\n",
              "      <td>5</td>\n",
              "      <td>6</td>\n",
              "      <td>1263</td>\n",
              "      <td>1716</td>\n",
              "      <td>2603</td>\n",
              "      <td>11</td>\n",
              "      <td>2</td>\n",
              "      <td>9</td>\n",
              "      <td>1</td>\n",
              "      <td>1</td>\n",
              "      <td>0</td>\n",
              "      <td>2</td>\n",
              "    </tr>\n",
              "    <tr>\n",
              "      <th>3</th>\n",
              "      <td>615</td>\n",
              "      <td>1</td>\n",
              "      <td>2.5</td>\n",
              "      <td>0</td>\n",
              "      <td>0</td>\n",
              "      <td>0</td>\n",
              "      <td>10</td>\n",
              "      <td>0.8</td>\n",
              "      <td>131</td>\n",
              "      <td>6</td>\n",
              "      <td>9</td>\n",
              "      <td>1216</td>\n",
              "      <td>1786</td>\n",
              "      <td>2769</td>\n",
              "      <td>16</td>\n",
              "      <td>8</td>\n",
              "      <td>11</td>\n",
              "      <td>1</td>\n",
              "      <td>0</td>\n",
              "      <td>0</td>\n",
              "      <td>2</td>\n",
              "    </tr>\n",
              "    <tr>\n",
              "      <th>4</th>\n",
              "      <td>1821</td>\n",
              "      <td>1</td>\n",
              "      <td>1.2</td>\n",
              "      <td>0</td>\n",
              "      <td>13</td>\n",
              "      <td>1</td>\n",
              "      <td>44</td>\n",
              "      <td>0.6</td>\n",
              "      <td>141</td>\n",
              "      <td>2</td>\n",
              "      <td>14</td>\n",
              "      <td>1208</td>\n",
              "      <td>1212</td>\n",
              "      <td>1411</td>\n",
              "      <td>8</td>\n",
              "      <td>2</td>\n",
              "      <td>15</td>\n",
              "      <td>1</td>\n",
              "      <td>1</td>\n",
              "      <td>0</td>\n",
              "      <td>1</td>\n",
              "    </tr>\n",
              "  </tbody>\n",
              "</table>\n",
              "</div>"
            ],
            "text/plain": [
              "   battery_power  blue  clock_speed  ...  touch_screen  wifi  price_range\n",
              "0            842     0          2.2  ...             0     1            1\n",
              "1           1021     1          0.5  ...             1     0            2\n",
              "2            563     1          0.5  ...             1     0            2\n",
              "3            615     1          2.5  ...             0     0            2\n",
              "4           1821     1          1.2  ...             1     0            1\n",
              "\n",
              "[5 rows x 21 columns]"
            ]
          },
          "metadata": {
            "tags": []
          },
          "execution_count": 7
        }
      ]
    },
    {
      "cell_type": "markdown",
      "metadata": {
        "id": "YAizag71izy6"
      },
      "source": [
        "# Data preprocessing"
      ]
    },
    {
      "cell_type": "markdown",
      "metadata": {
        "id": "pBMCoZOjnPXn"
      },
      "source": [
        "Removing null Rows"
      ]
    },
    {
      "cell_type": "code",
      "metadata": {
        "id": "ipGJC8PrnBK5"
      },
      "source": [
        "train_data=train_data.dropna()"
      ],
      "execution_count": 108,
      "outputs": []
    },
    {
      "cell_type": "code",
      "metadata": {
        "id": "8r6MBjY0izeX"
      },
      "source": [
        "columns= train_data.columns\n",
        "sc= sklearn.preprocessing.StandardScaler()\n",
        "sc.fit(train_data.iloc[:,:-1])\n",
        "train_data_scaled = sc.transform(train_data.iloc[:,:-1])\n",
        "train_data_scaled = pd.DataFrame(np.hstack([train_data_scaled,np.array(train_data.iloc[:,-1],dtype='int').reshape(train_data.shape[0],1)]),columns=columns)"
      ],
      "execution_count": 109,
      "outputs": []
    },
    {
      "cell_type": "code",
      "metadata": {
        "colab": {
          "base_uri": "https://localhost:8080/",
          "height": 439
        },
        "id": "hNtZkMPdjnku",
        "outputId": "dde9d809-4d87-41c7-bfa2-76a49acd3d04"
      },
      "source": [
        "train_data_scaled"
      ],
      "execution_count": 110,
      "outputs": [
        {
          "output_type": "execute_result",
          "data": {
            "text/html": [
              "<div>\n",
              "<style scoped>\n",
              "    .dataframe tbody tr th:only-of-type {\n",
              "        vertical-align: middle;\n",
              "    }\n",
              "\n",
              "    .dataframe tbody tr th {\n",
              "        vertical-align: top;\n",
              "    }\n",
              "\n",
              "    .dataframe thead th {\n",
              "        text-align: right;\n",
              "    }\n",
              "</style>\n",
              "<table border=\"1\" class=\"dataframe\">\n",
              "  <thead>\n",
              "    <tr style=\"text-align: right;\">\n",
              "      <th></th>\n",
              "      <th>battery_power</th>\n",
              "      <th>blue</th>\n",
              "      <th>clock_speed</th>\n",
              "      <th>dual_sim</th>\n",
              "      <th>fc</th>\n",
              "      <th>four_g</th>\n",
              "      <th>int_memory</th>\n",
              "      <th>m_dep</th>\n",
              "      <th>mobile_wt</th>\n",
              "      <th>n_cores</th>\n",
              "      <th>pc</th>\n",
              "      <th>px_height</th>\n",
              "      <th>px_width</th>\n",
              "      <th>ram</th>\n",
              "      <th>sc_h</th>\n",
              "      <th>sc_w</th>\n",
              "      <th>talk_time</th>\n",
              "      <th>three_g</th>\n",
              "      <th>touch_screen</th>\n",
              "      <th>wifi</th>\n",
              "      <th>price_range</th>\n",
              "    </tr>\n",
              "  </thead>\n",
              "  <tbody>\n",
              "    <tr>\n",
              "      <th>0</th>\n",
              "      <td>-0.902597</td>\n",
              "      <td>-0.990050</td>\n",
              "      <td>0.830779</td>\n",
              "      <td>-1.019184</td>\n",
              "      <td>-0.762495</td>\n",
              "      <td>-1.043966</td>\n",
              "      <td>-1.380644</td>\n",
              "      <td>0.340740</td>\n",
              "      <td>1.349249</td>\n",
              "      <td>-1.101971</td>\n",
              "      <td>-1.305750</td>\n",
              "      <td>-1.408949</td>\n",
              "      <td>-1.146784</td>\n",
              "      <td>0.391703</td>\n",
              "      <td>-0.784983</td>\n",
              "      <td>0.283103</td>\n",
              "      <td>1.462493</td>\n",
              "      <td>-1.786861</td>\n",
              "      <td>-1.006018</td>\n",
              "      <td>0.986097</td>\n",
              "      <td>1.0</td>\n",
              "    </tr>\n",
              "    <tr>\n",
              "      <th>1</th>\n",
              "      <td>-0.495139</td>\n",
              "      <td>1.010051</td>\n",
              "      <td>-1.253064</td>\n",
              "      <td>0.981177</td>\n",
              "      <td>-0.992890</td>\n",
              "      <td>0.957886</td>\n",
              "      <td>1.155024</td>\n",
              "      <td>0.687548</td>\n",
              "      <td>-0.120059</td>\n",
              "      <td>-0.664768</td>\n",
              "      <td>-0.645989</td>\n",
              "      <td>0.585778</td>\n",
              "      <td>1.704465</td>\n",
              "      <td>0.467317</td>\n",
              "      <td>1.114266</td>\n",
              "      <td>-0.635317</td>\n",
              "      <td>-0.734267</td>\n",
              "      <td>0.559641</td>\n",
              "      <td>0.994018</td>\n",
              "      <td>-1.014099</td>\n",
              "      <td>2.0</td>\n",
              "    </tr>\n",
              "    <tr>\n",
              "      <th>2</th>\n",
              "      <td>-1.537686</td>\n",
              "      <td>1.010051</td>\n",
              "      <td>-1.253064</td>\n",
              "      <td>0.981177</td>\n",
              "      <td>-0.532099</td>\n",
              "      <td>0.957886</td>\n",
              "      <td>0.493546</td>\n",
              "      <td>1.381165</td>\n",
              "      <td>0.134244</td>\n",
              "      <td>0.209639</td>\n",
              "      <td>-0.645989</td>\n",
              "      <td>1.392684</td>\n",
              "      <td>1.074968</td>\n",
              "      <td>0.441498</td>\n",
              "      <td>-0.310171</td>\n",
              "      <td>-0.864922</td>\n",
              "      <td>-0.368140</td>\n",
              "      <td>0.559641</td>\n",
              "      <td>0.994018</td>\n",
              "      <td>-1.014099</td>\n",
              "      <td>2.0</td>\n",
              "    </tr>\n",
              "    <tr>\n",
              "      <th>3</th>\n",
              "      <td>-1.419319</td>\n",
              "      <td>1.010051</td>\n",
              "      <td>1.198517</td>\n",
              "      <td>-1.019184</td>\n",
              "      <td>-0.992890</td>\n",
              "      <td>-1.043966</td>\n",
              "      <td>-1.215274</td>\n",
              "      <td>1.034357</td>\n",
              "      <td>-0.261339</td>\n",
              "      <td>0.646842</td>\n",
              "      <td>-0.151168</td>\n",
              "      <td>1.286750</td>\n",
              "      <td>1.236971</td>\n",
              "      <td>0.594569</td>\n",
              "      <td>0.876859</td>\n",
              "      <td>0.512708</td>\n",
              "      <td>-0.002014</td>\n",
              "      <td>0.559641</td>\n",
              "      <td>-1.006018</td>\n",
              "      <td>-1.014099</td>\n",
              "      <td>2.0</td>\n",
              "    </tr>\n",
              "    <tr>\n",
              "      <th>4</th>\n",
              "      <td>1.325906</td>\n",
              "      <td>1.010051</td>\n",
              "      <td>-0.395011</td>\n",
              "      <td>-1.019184</td>\n",
              "      <td>2.002254</td>\n",
              "      <td>0.957886</td>\n",
              "      <td>0.658915</td>\n",
              "      <td>0.340740</td>\n",
              "      <td>0.021220</td>\n",
              "      <td>-1.101971</td>\n",
              "      <td>0.673534</td>\n",
              "      <td>1.268718</td>\n",
              "      <td>-0.091452</td>\n",
              "      <td>-0.657666</td>\n",
              "      <td>-1.022389</td>\n",
              "      <td>-0.864922</td>\n",
              "      <td>0.730240</td>\n",
              "      <td>0.559641</td>\n",
              "      <td>0.994018</td>\n",
              "      <td>-1.014099</td>\n",
              "      <td>1.0</td>\n",
              "    </tr>\n",
              "    <tr>\n",
              "      <th>...</th>\n",
              "      <td>...</td>\n",
              "      <td>...</td>\n",
              "      <td>...</td>\n",
              "      <td>...</td>\n",
              "      <td>...</td>\n",
              "      <td>...</td>\n",
              "      <td>...</td>\n",
              "      <td>...</td>\n",
              "      <td>...</td>\n",
              "      <td>...</td>\n",
              "      <td>...</td>\n",
              "      <td>...</td>\n",
              "      <td>...</td>\n",
              "      <td>...</td>\n",
              "      <td>...</td>\n",
              "      <td>...</td>\n",
              "      <td>...</td>\n",
              "      <td>...</td>\n",
              "      <td>...</td>\n",
              "      <td>...</td>\n",
              "      <td>...</td>\n",
              "    </tr>\n",
              "    <tr>\n",
              "      <th>1995</th>\n",
              "      <td>-1.011860</td>\n",
              "      <td>1.010051</td>\n",
              "      <td>-1.253064</td>\n",
              "      <td>0.981177</td>\n",
              "      <td>-0.992890</td>\n",
              "      <td>0.957886</td>\n",
              "      <td>-1.656260</td>\n",
              "      <td>1.034357</td>\n",
              "      <td>-0.967737</td>\n",
              "      <td>0.646842</td>\n",
              "      <td>0.673534</td>\n",
              "      <td>1.300273</td>\n",
              "      <td>1.477661</td>\n",
              "      <td>-1.342799</td>\n",
              "      <td>0.164641</td>\n",
              "      <td>-0.405712</td>\n",
              "      <td>1.462493</td>\n",
              "      <td>0.559641</td>\n",
              "      <td>0.994018</td>\n",
              "      <td>-1.014099</td>\n",
              "      <td>0.0</td>\n",
              "    </tr>\n",
              "    <tr>\n",
              "      <th>1996</th>\n",
              "      <td>1.653694</td>\n",
              "      <td>1.010051</td>\n",
              "      <td>1.321096</td>\n",
              "      <td>0.981177</td>\n",
              "      <td>-0.992890</td>\n",
              "      <td>-1.043966</td>\n",
              "      <td>0.383299</td>\n",
              "      <td>-1.046495</td>\n",
              "      <td>1.320993</td>\n",
              "      <td>-0.227564</td>\n",
              "      <td>-1.140810</td>\n",
              "      <td>0.608317</td>\n",
              "      <td>1.651235</td>\n",
              "      <td>-0.085031</td>\n",
              "      <td>-0.310171</td>\n",
              "      <td>0.971917</td>\n",
              "      <td>0.913303</td>\n",
              "      <td>0.559641</td>\n",
              "      <td>0.994018</td>\n",
              "      <td>0.986097</td>\n",
              "      <td>2.0</td>\n",
              "    </tr>\n",
              "    <tr>\n",
              "      <th>1997</th>\n",
              "      <td>1.530773</td>\n",
              "      <td>-0.990050</td>\n",
              "      <td>-0.762748</td>\n",
              "      <td>0.981177</td>\n",
              "      <td>-0.762495</td>\n",
              "      <td>0.957886</td>\n",
              "      <td>0.217930</td>\n",
              "      <td>0.687548</td>\n",
              "      <td>-0.911225</td>\n",
              "      <td>1.521249</td>\n",
              "      <td>-1.140810</td>\n",
              "      <td>0.502383</td>\n",
              "      <td>0.880565</td>\n",
              "      <td>0.860139</td>\n",
              "      <td>-0.784983</td>\n",
              "      <td>-1.094526</td>\n",
              "      <td>-1.100394</td>\n",
              "      <td>0.559641</td>\n",
              "      <td>0.994018</td>\n",
              "      <td>-1.014099</td>\n",
              "      <td>3.0</td>\n",
              "    </tr>\n",
              "    <tr>\n",
              "      <th>1998</th>\n",
              "      <td>0.622527</td>\n",
              "      <td>-0.990050</td>\n",
              "      <td>-0.762748</td>\n",
              "      <td>-1.019184</td>\n",
              "      <td>-0.071307</td>\n",
              "      <td>0.957886</td>\n",
              "      <td>0.769162</td>\n",
              "      <td>-1.393304</td>\n",
              "      <td>0.134244</td>\n",
              "      <td>0.209639</td>\n",
              "      <td>-0.810929</td>\n",
              "      <td>-0.696707</td>\n",
              "      <td>-1.345816</td>\n",
              "      <td>-1.157454</td>\n",
              "      <td>1.351672</td>\n",
              "      <td>0.971917</td>\n",
              "      <td>1.462493</td>\n",
              "      <td>0.559641</td>\n",
              "      <td>0.994018</td>\n",
              "      <td>0.986097</td>\n",
              "      <td>0.0</td>\n",
              "    </tr>\n",
              "    <tr>\n",
              "      <th>1999</th>\n",
              "      <td>-1.658331</td>\n",
              "      <td>1.010051</td>\n",
              "      <td>0.585621</td>\n",
              "      <td>0.981177</td>\n",
              "      <td>0.159088</td>\n",
              "      <td>0.957886</td>\n",
              "      <td>0.714039</td>\n",
              "      <td>1.381165</td>\n",
              "      <td>0.784130</td>\n",
              "      <td>0.646842</td>\n",
              "      <td>1.003414</td>\n",
              "      <td>-0.365380</td>\n",
              "      <td>-1.151413</td>\n",
              "      <td>1.655004</td>\n",
              "      <td>1.589078</td>\n",
              "      <td>-0.405712</td>\n",
              "      <td>-1.649584</td>\n",
              "      <td>0.559641</td>\n",
              "      <td>0.994018</td>\n",
              "      <td>0.986097</td>\n",
              "      <td>3.0</td>\n",
              "    </tr>\n",
              "  </tbody>\n",
              "</table>\n",
              "<p>2000 rows × 21 columns</p>\n",
              "</div>"
            ],
            "text/plain": [
              "      battery_power      blue  clock_speed  ...  touch_screen      wifi  price_range\n",
              "0         -0.902597 -0.990050     0.830779  ...     -1.006018  0.986097          1.0\n",
              "1         -0.495139  1.010051    -1.253064  ...      0.994018 -1.014099          2.0\n",
              "2         -1.537686  1.010051    -1.253064  ...      0.994018 -1.014099          2.0\n",
              "3         -1.419319  1.010051     1.198517  ...     -1.006018 -1.014099          2.0\n",
              "4          1.325906  1.010051    -0.395011  ...      0.994018 -1.014099          1.0\n",
              "...             ...       ...          ...  ...           ...       ...          ...\n",
              "1995      -1.011860  1.010051    -1.253064  ...      0.994018 -1.014099          0.0\n",
              "1996       1.653694  1.010051     1.321096  ...      0.994018  0.986097          2.0\n",
              "1997       1.530773 -0.990050    -0.762748  ...      0.994018 -1.014099          3.0\n",
              "1998       0.622527 -0.990050    -0.762748  ...      0.994018  0.986097          0.0\n",
              "1999      -1.658331  1.010051     0.585621  ...      0.994018  0.986097          3.0\n",
              "\n",
              "[2000 rows x 21 columns]"
            ]
          },
          "metadata": {
            "tags": []
          },
          "execution_count": 110
        }
      ]
    },
    {
      "cell_type": "code",
      "metadata": {
        "colab": {
          "base_uri": "https://localhost:8080/",
          "height": 348
        },
        "id": "u4_Gi2xKWciB",
        "outputId": "78305c31-edb5-4036-e2fc-b7839ebe5898"
      },
      "source": [
        "sns.heatmap(train_data_scaled.corr(),linewidths=1)"
      ],
      "execution_count": 111,
      "outputs": [
        {
          "output_type": "execute_result",
          "data": {
            "text/plain": [
              "<matplotlib.axes._subplots.AxesSubplot at 0x7f14f7d4a160>"
            ]
          },
          "metadata": {
            "tags": []
          },
          "execution_count": 111
        },
        {
          "output_type": "display_data",
          "data": {
            "image/png": "[encoded data removed]",
            "text/plain": [
              "<Figure size 432x288 with 2 Axes>"
            ]
          },
          "metadata": {
            "tags": [],
            "needs_background": "light"
          }
        }
      ]
    },
    {
      "cell_type": "markdown",
      "metadata": {
        "id": "vLLucEkLhM1D"
      },
      "source": [
        "number of features     -     21  (so we have to do feature engineering to reduce the dimensionaly of data set )"
      ]
    },
    {
      "cell_type": "markdown",
      "metadata": {
        "id": "pB05qdLRh8DC"
      },
      "source": [
        "**Taking top 7 best correlated features for training the model**"
      ]
    },
    {
      "cell_type": "code",
      "metadata": {
        "id": "ntwzSPTu8y5A"
      },
      "source": [
        "def send_data(features,train_data,train_data_scaled):\n",
        "  correlation_columns = abs(train_data.corr()).iloc[:-1,-1].sort_values().index[-1*features:]\n",
        "  correlation_values = np.array(abs(train_data.corr()).iloc[:-1,-1].sort_values())[-features*i:]\n",
        "  x_data= train_data_scaled[correlation_columns]\n",
        "  y_data = train_data['price_range']\n",
        "  x_data=np.array(x_data)\n",
        "  x_train,x_val, y_train,y_val = sklearn.model_selection.train_test_split(x_data,y_data,test_size=0.2)\n",
        "  return x_train,x_val,y_train,y_val"
      ],
      "execution_count": 405,
      "outputs": []
    },
    {
      "cell_type": "code",
      "metadata": {
        "colab": {
          "base_uri": "https://localhost:8080/",
          "height": 320
        },
        "id": "SrQqnbug0XQN",
        "outputId": "4b14cbdd-1c9a-4371-f196-c08d28c2d35c"
      },
      "source": [
        "train_accuracy=[]\n",
        "val_accuracy=[]\n",
        "for i in range(7,21):\n",
        "  x_train,x_val, y_train,y_val = send_data(i,train_data,train_data_scaled)\n",
        "  lor = sklearn.linear_model.LogisticRegression(penalty='l2')\n",
        "  lor.fit(x_train,y_train)\n",
        "  pred = lor.predict(x_train)\n",
        "  train_accuracy.append(lor.score(x_train,y_train))\n",
        "  val_accuracy.append(lor.score(x_val,y_val))\n",
        "plt.figure(figsize=(5,5))\n",
        "plt.subplot(1,2,1)\n",
        "plt.plot(train_accuracy,label='train',scaley=0.9)\n",
        "plt.subplot(1,2,2)\n",
        "plt.plot(val_accuracy,label='val')\n",
        "plt.legend()\n",
        "plt.show()"
      ],
      "execution_count": 411,
      "outputs": [
        {
          "output_type": "display_data",
          "data": {
            "image/png": "[encoded data removed]",
            "text/plain": [
              "<Figure size 360x360 with 2 Axes>"
            ]
          },
          "metadata": {
            "tags": [],
            "needs_background": "light"
          }
        }
      ]
    },
    {
      "cell_type": "code",
      "metadata": {
        "id": "e56BlU802wod"
      },
      "source": [
        "dimensions = 7+ np.argmax((train_accuracy+np.array(val_accuracy))/2)"
      ],
      "execution_count": 412,
      "outputs": []
    },
    {
      "cell_type": "code",
      "metadata": {
        "colab": {
          "base_uri": "https://localhost:8080/"
        },
        "id": "8HPpOw5c73A6",
        "outputId": "05311b4b-5866-42d8-9bec-f442d78f3f59"
      },
      "source": [
        "train_accuracy[dimensions-7] , val_accuracy[dimensions -7]"
      ],
      "execution_count": 413,
      "outputs": [
        {
          "output_type": "execute_result",
          "data": {
            "text/plain": [
              "(0.978125, 0.9775)"
            ]
          },
          "metadata": {
            "tags": []
          },
          "execution_count": 413
        }
      ]
    },
    {
      "cell_type": "code",
      "metadata": {
        "colab": {
          "base_uri": "https://localhost:8080/"
        },
        "id": "SU9i0uoa9Vk6",
        "outputId": "93a9a0a2-cde8-42c0-8d6d-8ed9f62bd5eb"
      },
      "source": [
        "dimensions"
      ],
      "execution_count": 414,
      "outputs": [
        {
          "output_type": "execute_result",
          "data": {
            "text/plain": [
              "10"
            ]
          },
          "metadata": {
            "tags": []
          },
          "execution_count": 414
        }
      ]
    },
    {
      "cell_type": "code",
      "metadata": {
        "colab": {
          "base_uri": "https://localhost:8080/"
        },
        "id": "QgDLt6TI-oQP",
        "outputId": "7675b6db-8df1-4229-cb17-373f7477fe08"
      },
      "source": [
        "(train_accuracy[dimensions-7] + val_accuracy[dimensions -7])/2"
      ],
      "execution_count": 415,
      "outputs": [
        {
          "output_type": "execute_result",
          "data": {
            "text/plain": [
              "0.9778125"
            ]
          },
          "metadata": {
            "tags": []
          },
          "execution_count": 415
        }
      ]
    },
    {
      "cell_type": "markdown",
      "metadata": {
        "id": "xd2f76PVseZp"
      },
      "source": [
        "**Using logistic Regression gave 95.8% accuracy on train data and 96% accuracy on validation data so our model is well generalised**"
      ]
    },
    {
      "cell_type": "markdown",
      "metadata": {
        "id": "BtHDsMJNseTX"
      },
      "source": [
        "**Lets try to improve accuracy using neural Networks**"
      ]
    },
    {
      "cell_type": "code",
      "metadata": {
        "id": "kseNDOmDsTXm"
      },
      "source": [
        "import tensorflow as tf"
      ],
      "execution_count": 416,
      "outputs": []
    },
    {
      "cell_type": "code",
      "metadata": {
        "id": "4y3-nGYsss0R"
      },
      "source": [
        "def model_build():\n",
        "  model = tf.keras.Sequential(\n",
        "      [\n",
        "      tf.keras.layers.InputLayer(input_shape=(dimensions,)),\n",
        "      tf.keras.layers.Dense(64,activation='relu',kernel_regularizer=tf.keras.regularizers.l2()),\n",
        "      tf.keras.layers.Dropout(0.5),\n",
        "      tf.keras.layers.Dense(64,activation='relu',kernel_regularizer=tf.keras.regularizers.l2()),\n",
        "      tf.keras.layers.Dropout(0.5),\n",
        "      tf.keras.layers.Dense(4,activation='softmax')\n",
        "      ]\n",
        "  )\n",
        "  return model\n",
        "model = model_build()"
      ],
      "execution_count": 417,
      "outputs": []
    },
    {
      "cell_type": "code",
      "metadata": {
        "colab": {
          "base_uri": "https://localhost:8080/"
        },
        "id": "n5DUga-JtePH",
        "outputId": "b19d809d-aab3-41c9-a8c5-fc87bfc754e5"
      },
      "source": [
        "model.summary()"
      ],
      "execution_count": 418,
      "outputs": [
        {
          "output_type": "stream",
          "text": [
            "Model: \"sequential_20\"\n",
            "_________________________________________________________________\n",
            "Layer (type)                 Output Shape              Param #   \n",
            "=================================================================\n",
            "dense_51 (Dense)             (None, 64)                704       \n",
            "_________________________________________________________________\n",
            "dropout_29 (Dropout)         (None, 64)                0         \n",
            "_________________________________________________________________\n",
            "dense_52 (Dense)             (None, 64)                4160      \n",
            "_________________________________________________________________\n",
            "dropout_30 (Dropout)         (None, 64)                0         \n",
            "_________________________________________________________________\n",
            "dense_53 (Dense)             (None, 4)                 260       \n",
            "=================================================================\n",
            "Total params: 5,124\n",
            "Trainable params: 5,124\n",
            "Non-trainable params: 0\n",
            "_________________________________________________________________\n"
          ],
          "name": "stdout"
        }
      ]
    },
    {
      "cell_type": "code",
      "metadata": {
        "id": "VRkQqb9ZuCGc"
      },
      "source": [
        "earlystopping=tf.keras.callbacks.EarlyStopping(monitor='val_loss')\n",
        "checkpoint= tf.keras.callbacks.ModelCheckpoint('/content/checkpoint',save_best_only=True,save_weights_only=True,monitor='val_accuracy')"
      ],
      "execution_count": 421,
      "outputs": []
    },
    {
      "cell_type": "code",
      "metadata": {
        "id": "WNzHs3yU9g75"
      },
      "source": [
        "x_train,x_val, y_train,y_val = send_data(dimensions,train_data,train_data_scaled)"
      ],
      "execution_count": 422,
      "outputs": []
    },
    {
      "cell_type": "code",
      "metadata": {
        "colab": {
          "base_uri": "https://localhost:8080/"
        },
        "id": "2rp6_waVti3X",
        "outputId": "0a94505a-3c9c-4931-8621-4ba4c9a0a3cb"
      },
      "source": [
        "model.compile(loss='sparse_categorical_crossentropy',optimizer=tf.keras.optimizers.Adam(),metrics=['accuracy'])\n",
        "model.fit(x_train,y_train,epochs=100,validation_data=(x_val,y_val),callbacks=[checkpoint])"
      ],
      "execution_count": 423,
      "outputs": [
        {
          "output_type": "stream",
          "text": [
            "Epoch 1/100\n",
            "50/50 [==============================] - 0s 5ms/step - loss: 2.1655 - accuracy: 0.3100 - val_loss: 1.8984 - val_accuracy: 0.5700\n",
            "Epoch 2/100\n",
            "50/50 [==============================] - 0s 2ms/step - loss: 1.8490 - accuracy: 0.4469 - val_loss: 1.6159 - val_accuracy: 0.5575\n",
            "Epoch 3/100\n",
            "50/50 [==============================] - 0s 3ms/step - loss: 1.5821 - accuracy: 0.5213 - val_loss: 1.3552 - val_accuracy: 0.6650\n",
            "Epoch 4/100\n",
            "50/50 [==============================] - 0s 2ms/step - loss: 1.3690 - accuracy: 0.5919 - val_loss: 1.1628 - val_accuracy: 0.7500\n",
            "Epoch 5/100\n",
            "50/50 [==============================] - 0s 2ms/step - loss: 1.2279 - accuracy: 0.6162 - val_loss: 1.0240 - val_accuracy: 0.7800\n",
            "Epoch 6/100\n",
            "50/50 [==============================] - 0s 2ms/step - loss: 1.0903 - accuracy: 0.6756 - val_loss: 0.9124 - val_accuracy: 0.8525\n",
            "Epoch 7/100\n",
            "50/50 [==============================] - 0s 2ms/step - loss: 1.0004 - accuracy: 0.7100 - val_loss: 0.8302 - val_accuracy: 0.8650\n",
            "Epoch 8/100\n",
            "50/50 [==============================] - 0s 2ms/step - loss: 0.9253 - accuracy: 0.7306 - val_loss: 0.7607 - val_accuracy: 0.8875\n",
            "Epoch 9/100\n",
            "50/50 [==============================] - 0s 2ms/step - loss: 0.8677 - accuracy: 0.7544 - val_loss: 0.7077 - val_accuracy: 0.8850\n",
            "Epoch 10/100\n",
            "50/50 [==============================] - 0s 2ms/step - loss: 0.8089 - accuracy: 0.7719 - val_loss: 0.6542 - val_accuracy: 0.8975\n",
            "Epoch 11/100\n",
            "50/50 [==============================] - 0s 3ms/step - loss: 0.7515 - accuracy: 0.7925 - val_loss: 0.6135 - val_accuracy: 0.9175\n",
            "Epoch 12/100\n",
            "50/50 [==============================] - 0s 2ms/step - loss: 0.7229 - accuracy: 0.8050 - val_loss: 0.5806 - val_accuracy: 0.9125\n",
            "Epoch 13/100\n",
            "50/50 [==============================] - 0s 2ms/step - loss: 0.6859 - accuracy: 0.8106 - val_loss: 0.5456 - val_accuracy: 0.9475\n",
            "Epoch 14/100\n",
            "50/50 [==============================] - 0s 2ms/step - loss: 0.6630 - accuracy: 0.8213 - val_loss: 0.5248 - val_accuracy: 0.9200\n",
            "Epoch 15/100\n",
            "50/50 [==============================] - 0s 2ms/step - loss: 0.6293 - accuracy: 0.8356 - val_loss: 0.5029 - val_accuracy: 0.9275\n",
            "Epoch 16/100\n",
            "50/50 [==============================] - 0s 2ms/step - loss: 0.6000 - accuracy: 0.8431 - val_loss: 0.4880 - val_accuracy: 0.9150\n",
            "Epoch 17/100\n",
            "50/50 [==============================] - 0s 2ms/step - loss: 0.5817 - accuracy: 0.8431 - val_loss: 0.4586 - val_accuracy: 0.9350\n",
            "Epoch 18/100\n",
            "50/50 [==============================] - 0s 2ms/step - loss: 0.5593 - accuracy: 0.8462 - val_loss: 0.4431 - val_accuracy: 0.9350\n",
            "Epoch 19/100\n",
            "50/50 [==============================] - 0s 2ms/step - loss: 0.5510 - accuracy: 0.8494 - val_loss: 0.4319 - val_accuracy: 0.9450\n",
            "Epoch 20/100\n",
            "50/50 [==============================] - 0s 2ms/step - loss: 0.5261 - accuracy: 0.8644 - val_loss: 0.4120 - val_accuracy: 0.9250\n",
            "Epoch 21/100\n",
            "50/50 [==============================] - 0s 2ms/step - loss: 0.5187 - accuracy: 0.8669 - val_loss: 0.4037 - val_accuracy: 0.9375\n",
            "Epoch 22/100\n",
            "50/50 [==============================] - 0s 2ms/step - loss: 0.4940 - accuracy: 0.8763 - val_loss: 0.3890 - val_accuracy: 0.9400\n",
            "Epoch 23/100\n",
            "50/50 [==============================] - 0s 2ms/step - loss: 0.4754 - accuracy: 0.8681 - val_loss: 0.3772 - val_accuracy: 0.9450\n",
            "Epoch 24/100\n",
            "50/50 [==============================] - 0s 2ms/step - loss: 0.4773 - accuracy: 0.8731 - val_loss: 0.3650 - val_accuracy: 0.9650\n",
            "Epoch 25/100\n",
            "50/50 [==============================] - 0s 2ms/step - loss: 0.4691 - accuracy: 0.8744 - val_loss: 0.3632 - val_accuracy: 0.9425\n",
            "Epoch 26/100\n",
            "50/50 [==============================] - 0s 2ms/step - loss: 0.4465 - accuracy: 0.8944 - val_loss: 0.3514 - val_accuracy: 0.9300\n",
            "Epoch 27/100\n",
            "50/50 [==============================] - 0s 2ms/step - loss: 0.4633 - accuracy: 0.8687 - val_loss: 0.3475 - val_accuracy: 0.9450\n",
            "Epoch 28/100\n",
            "50/50 [==============================] - 0s 2ms/step - loss: 0.4505 - accuracy: 0.8756 - val_loss: 0.3375 - val_accuracy: 0.9650\n",
            "Epoch 29/100\n",
            "50/50 [==============================] - 0s 2ms/step - loss: 0.4385 - accuracy: 0.8813 - val_loss: 0.3281 - val_accuracy: 0.9550\n",
            "Epoch 30/100\n",
            "50/50 [==============================] - 0s 2ms/step - loss: 0.4198 - accuracy: 0.8975 - val_loss: 0.3222 - val_accuracy: 0.9650\n",
            "Epoch 31/100\n",
            "50/50 [==============================] - 0s 2ms/step - loss: 0.4144 - accuracy: 0.8944 - val_loss: 0.3176 - val_accuracy: 0.9525\n",
            "Epoch 32/100\n",
            "50/50 [==============================] - 0s 2ms/step - loss: 0.4097 - accuracy: 0.8969 - val_loss: 0.3100 - val_accuracy: 0.9675\n",
            "Epoch 33/100\n",
            "50/50 [==============================] - 0s 2ms/step - loss: 0.4161 - accuracy: 0.8969 - val_loss: 0.3128 - val_accuracy: 0.9650\n",
            "Epoch 34/100\n",
            "50/50 [==============================] - 0s 2ms/step - loss: 0.4141 - accuracy: 0.8869 - val_loss: 0.3049 - val_accuracy: 0.9575\n",
            "Epoch 35/100\n",
            "50/50 [==============================] - 0s 2ms/step - loss: 0.4041 - accuracy: 0.9013 - val_loss: 0.3013 - val_accuracy: 0.9625\n",
            "Epoch 36/100\n",
            "50/50 [==============================] - 0s 2ms/step - loss: 0.3905 - accuracy: 0.9081 - val_loss: 0.2971 - val_accuracy: 0.9650\n",
            "Epoch 37/100\n",
            "50/50 [==============================] - 0s 2ms/step - loss: 0.3988 - accuracy: 0.9031 - val_loss: 0.2940 - val_accuracy: 0.9675\n",
            "Epoch 38/100\n",
            "50/50 [==============================] - 0s 2ms/step - loss: 0.3682 - accuracy: 0.9069 - val_loss: 0.2903 - val_accuracy: 0.9650\n",
            "Epoch 39/100\n",
            "50/50 [==============================] - 0s 2ms/step - loss: 0.3906 - accuracy: 0.8981 - val_loss: 0.2914 - val_accuracy: 0.9425\n",
            "Epoch 40/100\n",
            "50/50 [==============================] - 0s 2ms/step - loss: 0.3889 - accuracy: 0.9013 - val_loss: 0.2831 - val_accuracy: 0.9650\n",
            "Epoch 41/100\n",
            "50/50 [==============================] - 0s 2ms/step - loss: 0.3979 - accuracy: 0.8919 - val_loss: 0.2816 - val_accuracy: 0.9750\n",
            "Epoch 42/100\n",
            "50/50 [==============================] - 0s 2ms/step - loss: 0.3946 - accuracy: 0.9056 - val_loss: 0.2782 - val_accuracy: 0.9675\n",
            "Epoch 43/100\n",
            "50/50 [==============================] - 0s 2ms/step - loss: 0.3817 - accuracy: 0.9069 - val_loss: 0.2797 - val_accuracy: 0.9650\n",
            "Epoch 44/100\n",
            "50/50 [==============================] - 0s 2ms/step - loss: 0.3847 - accuracy: 0.8994 - val_loss: 0.2969 - val_accuracy: 0.9400\n",
            "Epoch 45/100\n",
            "50/50 [==============================] - 0s 2ms/step - loss: 0.3958 - accuracy: 0.8969 - val_loss: 0.2786 - val_accuracy: 0.9700\n",
            "Epoch 46/100\n",
            "50/50 [==============================] - 0s 2ms/step - loss: 0.3815 - accuracy: 0.9081 - val_loss: 0.2791 - val_accuracy: 0.9575\n",
            "Epoch 47/100\n",
            "50/50 [==============================] - 0s 2ms/step - loss: 0.3783 - accuracy: 0.8950 - val_loss: 0.2786 - val_accuracy: 0.9600\n",
            "Epoch 48/100\n",
            "50/50 [==============================] - 0s 2ms/step - loss: 0.3792 - accuracy: 0.9025 - val_loss: 0.2763 - val_accuracy: 0.9550\n",
            "Epoch 49/100\n",
            "50/50 [==============================] - 0s 2ms/step - loss: 0.3814 - accuracy: 0.9056 - val_loss: 0.2779 - val_accuracy: 0.9650\n",
            "Epoch 50/100\n",
            "50/50 [==============================] - 0s 2ms/step - loss: 0.3804 - accuracy: 0.9013 - val_loss: 0.2622 - val_accuracy: 0.9625\n",
            "Epoch 51/100\n",
            "50/50 [==============================] - 0s 2ms/step - loss: 0.3717 - accuracy: 0.9013 - val_loss: 0.2671 - val_accuracy: 0.9675\n",
            "Epoch 52/100\n",
            "50/50 [==============================] - 0s 2ms/step - loss: 0.3801 - accuracy: 0.9006 - val_loss: 0.2717 - val_accuracy: 0.9700\n",
            "Epoch 53/100\n",
            "50/50 [==============================] - 0s 2ms/step - loss: 0.3540 - accuracy: 0.9181 - val_loss: 0.2639 - val_accuracy: 0.9650\n",
            "Epoch 54/100\n",
            "50/50 [==============================] - 0s 2ms/step - loss: 0.3584 - accuracy: 0.9137 - val_loss: 0.2692 - val_accuracy: 0.9625\n",
            "Epoch 55/100\n",
            "50/50 [==============================] - 0s 2ms/step - loss: 0.3490 - accuracy: 0.9150 - val_loss: 0.2624 - val_accuracy: 0.9650\n",
            "Epoch 56/100\n",
            "50/50 [==============================] - 0s 2ms/step - loss: 0.3577 - accuracy: 0.9125 - val_loss: 0.2663 - val_accuracy: 0.9575\n",
            "Epoch 57/100\n",
            "50/50 [==============================] - 0s 2ms/step - loss: 0.3542 - accuracy: 0.9106 - val_loss: 0.2595 - val_accuracy: 0.9725\n",
            "Epoch 58/100\n",
            "50/50 [==============================] - 0s 2ms/step - loss: 0.3608 - accuracy: 0.9062 - val_loss: 0.2789 - val_accuracy: 0.9500\n",
            "Epoch 59/100\n",
            "50/50 [==============================] - 0s 2ms/step - loss: 0.3591 - accuracy: 0.9137 - val_loss: 0.2567 - val_accuracy: 0.9750\n",
            "Epoch 60/100\n",
            "50/50 [==============================] - 0s 2ms/step - loss: 0.3399 - accuracy: 0.9212 - val_loss: 0.2604 - val_accuracy: 0.9650\n",
            "Epoch 61/100\n",
            "50/50 [==============================] - 0s 2ms/step - loss: 0.3363 - accuracy: 0.9150 - val_loss: 0.2520 - val_accuracy: 0.9700\n",
            "Epoch 62/100\n",
            "50/50 [==============================] - 0s 2ms/step - loss: 0.3424 - accuracy: 0.9044 - val_loss: 0.2523 - val_accuracy: 0.9550\n",
            "Epoch 63/100\n",
            "50/50 [==============================] - 0s 2ms/step - loss: 0.3322 - accuracy: 0.9237 - val_loss: 0.2468 - val_accuracy: 0.9625\n",
            "Epoch 64/100\n",
            "50/50 [==============================] - 0s 2ms/step - loss: 0.3349 - accuracy: 0.9187 - val_loss: 0.2604 - val_accuracy: 0.9575\n",
            "Epoch 65/100\n",
            "50/50 [==============================] - 0s 2ms/step - loss: 0.3444 - accuracy: 0.9181 - val_loss: 0.2600 - val_accuracy: 0.9625\n",
            "Epoch 66/100\n",
            "50/50 [==============================] - 0s 2ms/step - loss: 0.3538 - accuracy: 0.9100 - val_loss: 0.2509 - val_accuracy: 0.9700\n",
            "Epoch 67/100\n",
            "50/50 [==============================] - 0s 3ms/step - loss: 0.3415 - accuracy: 0.9169 - val_loss: 0.2418 - val_accuracy: 0.9725\n",
            "Epoch 68/100\n",
            "50/50 [==============================] - 0s 2ms/step - loss: 0.3490 - accuracy: 0.9112 - val_loss: 0.2470 - val_accuracy: 0.9675\n",
            "Epoch 69/100\n",
            "50/50 [==============================] - 0s 2ms/step - loss: 0.3476 - accuracy: 0.9119 - val_loss: 0.2468 - val_accuracy: 0.9775\n",
            "Epoch 70/100\n",
            "50/50 [==============================] - 0s 2ms/step - loss: 0.3283 - accuracy: 0.9219 - val_loss: 0.2470 - val_accuracy: 0.9675\n",
            "Epoch 71/100\n",
            "50/50 [==============================] - 0s 2ms/step - loss: 0.3446 - accuracy: 0.9081 - val_loss: 0.2472 - val_accuracy: 0.9625\n",
            "Epoch 72/100\n",
            "50/50 [==============================] - 0s 2ms/step - loss: 0.3414 - accuracy: 0.9156 - val_loss: 0.2497 - val_accuracy: 0.9650\n",
            "Epoch 73/100\n",
            "50/50 [==============================] - 0s 2ms/step - loss: 0.3376 - accuracy: 0.9231 - val_loss: 0.2381 - val_accuracy: 0.9675\n",
            "Epoch 74/100\n",
            "50/50 [==============================] - 0s 2ms/step - loss: 0.3433 - accuracy: 0.9162 - val_loss: 0.2441 - val_accuracy: 0.9650\n",
            "Epoch 75/100\n",
            "50/50 [==============================] - 0s 2ms/step - loss: 0.3323 - accuracy: 0.9119 - val_loss: 0.2415 - val_accuracy: 0.9675\n",
            "Epoch 76/100\n",
            "50/50 [==============================] - 0s 3ms/step - loss: 0.3409 - accuracy: 0.9100 - val_loss: 0.2489 - val_accuracy: 0.9600\n",
            "Epoch 77/100\n",
            "50/50 [==============================] - 0s 2ms/step - loss: 0.3355 - accuracy: 0.9137 - val_loss: 0.2474 - val_accuracy: 0.9550\n",
            "Epoch 78/100\n",
            "50/50 [==============================] - 0s 2ms/step - loss: 0.3436 - accuracy: 0.9206 - val_loss: 0.2457 - val_accuracy: 0.9650\n",
            "Epoch 79/100\n",
            "50/50 [==============================] - 0s 2ms/step - loss: 0.3230 - accuracy: 0.9169 - val_loss: 0.2393 - val_accuracy: 0.9725\n",
            "Epoch 80/100\n",
            "50/50 [==============================] - 0s 2ms/step - loss: 0.3338 - accuracy: 0.9200 - val_loss: 0.2340 - val_accuracy: 0.9650\n",
            "Epoch 81/100\n",
            "50/50 [==============================] - 0s 2ms/step - loss: 0.2989 - accuracy: 0.9269 - val_loss: 0.2337 - val_accuracy: 0.9650\n",
            "Epoch 82/100\n",
            "50/50 [==============================] - 0s 2ms/step - loss: 0.3242 - accuracy: 0.9200 - val_loss: 0.2433 - val_accuracy: 0.9600\n",
            "Epoch 83/100\n",
            "50/50 [==============================] - 0s 2ms/step - loss: 0.3244 - accuracy: 0.9225 - val_loss: 0.2385 - val_accuracy: 0.9550\n",
            "Epoch 84/100\n",
            "50/50 [==============================] - 0s 2ms/step - loss: 0.3265 - accuracy: 0.9212 - val_loss: 0.2350 - val_accuracy: 0.9825\n",
            "Epoch 85/100\n",
            "50/50 [==============================] - 0s 2ms/step - loss: 0.3211 - accuracy: 0.9212 - val_loss: 0.2336 - val_accuracy: 0.9725\n",
            "Epoch 86/100\n",
            "50/50 [==============================] - 0s 2ms/step - loss: 0.3280 - accuracy: 0.9169 - val_loss: 0.2333 - val_accuracy: 0.9700\n",
            "Epoch 87/100\n",
            "50/50 [==============================] - 0s 2ms/step - loss: 0.3199 - accuracy: 0.9256 - val_loss: 0.2345 - val_accuracy: 0.9650\n",
            "Epoch 88/100\n",
            "50/50 [==============================] - 0s 2ms/step - loss: 0.3372 - accuracy: 0.9056 - val_loss: 0.2454 - val_accuracy: 0.9550\n",
            "Epoch 89/100\n",
            "50/50 [==============================] - 0s 2ms/step - loss: 0.3143 - accuracy: 0.9169 - val_loss: 0.2364 - val_accuracy: 0.9625\n",
            "Epoch 90/100\n",
            "50/50 [==============================] - 0s 2ms/step - loss: 0.3047 - accuracy: 0.9306 - val_loss: 0.2400 - val_accuracy: 0.9675\n",
            "Epoch 91/100\n",
            "50/50 [==============================] - 0s 2ms/step - loss: 0.3254 - accuracy: 0.9200 - val_loss: 0.2353 - val_accuracy: 0.9750\n",
            "Epoch 92/100\n",
            "50/50 [==============================] - 0s 2ms/step - loss: 0.3394 - accuracy: 0.9062 - val_loss: 0.2437 - val_accuracy: 0.9675\n",
            "Epoch 93/100\n",
            "50/50 [==============================] - 0s 2ms/step - loss: 0.3064 - accuracy: 0.9319 - val_loss: 0.2388 - val_accuracy: 0.9450\n",
            "Epoch 94/100\n",
            "50/50 [==============================] - 0s 2ms/step - loss: 0.3307 - accuracy: 0.9131 - val_loss: 0.2306 - val_accuracy: 0.9725\n",
            "Epoch 95/100\n",
            "50/50 [==============================] - 0s 2ms/step - loss: 0.3007 - accuracy: 0.9281 - val_loss: 0.2290 - val_accuracy: 0.9675\n",
            "Epoch 96/100\n",
            "50/50 [==============================] - 0s 2ms/step - loss: 0.3250 - accuracy: 0.9156 - val_loss: 0.2276 - val_accuracy: 0.9750\n",
            "Epoch 97/100\n",
            "50/50 [==============================] - 0s 2ms/step - loss: 0.3165 - accuracy: 0.9256 - val_loss: 0.2320 - val_accuracy: 0.9625\n",
            "Epoch 98/100\n",
            "50/50 [==============================] - 0s 2ms/step - loss: 0.3039 - accuracy: 0.9281 - val_loss: 0.2299 - val_accuracy: 0.9725\n",
            "Epoch 99/100\n",
            "50/50 [==============================] - 0s 2ms/step - loss: 0.3081 - accuracy: 0.9150 - val_loss: 0.2358 - val_accuracy: 0.9600\n",
            "Epoch 100/100\n",
            "50/50 [==============================] - 0s 2ms/step - loss: 0.3013 - accuracy: 0.9312 - val_loss: 0.2251 - val_accuracy: 0.9675\n"
          ],
          "name": "stdout"
        },
        {
          "output_type": "execute_result",
          "data": {
            "text/plain": [
              "<tensorflow.python.keras.callbacks.History at 0x7f14a2fe9668>"
            ]
          },
          "metadata": {
            "tags": []
          },
          "execution_count": 423
        }
      ]
    },
    {
      "cell_type": "code",
      "metadata": {
        "colab": {
          "base_uri": "https://localhost:8080/"
        },
        "id": "ytOx7DNht2XJ",
        "outputId": "2ecdfb92-0e81-463b-cf04-62c445ff3878"
      },
      "source": [
        "model.load_weights('/content/checkpoint')"
      ],
      "execution_count": 429,
      "outputs": [
        {
          "output_type": "execute_result",
          "data": {
            "text/plain": [
              "<tensorflow.python.training.tracking.util.CheckpointLoadStatus at 0x7f14a2ebf128>"
            ]
          },
          "metadata": {
            "tags": []
          },
          "execution_count": 429
        }
      ]
    },
    {
      "cell_type": "code",
      "metadata": {
        "id": "pxTRl9nPvGrJ"
      },
      "source": [
        "pred=tf.argmax(model(x_val),axis=1)"
      ],
      "execution_count": 430,
      "outputs": []
    },
    {
      "cell_type": "code",
      "metadata": {
        "id": "udhP04GZwE6f"
      },
      "source": [
        "pred1=tf.argmax(model(x_train),axis=1)"
      ],
      "execution_count": 431,
      "outputs": []
    },
    {
      "cell_type": "code",
      "metadata": {
        "colab": {
          "base_uri": "https://localhost:8080/"
        },
        "id": "dQC1lrAIvTKa",
        "outputId": "438f0ac2-be74-448b-aa43-3048722a8009"
      },
      "source": [
        "sklearn.metrics.accuracy_score(pred1,y_train),sklearn.metrics.accuracy_score(pred,y_val)"
      ],
      "execution_count": 432,
      "outputs": [
        {
          "output_type": "execute_result",
          "data": {
            "text/plain": [
              "(0.980625, 0.9825)"
            ]
          },
          "metadata": {
            "tags": []
          },
          "execution_count": 432
        }
      ]
    },
    {
      "cell_type": "code",
      "metadata": {
        "colab": {
          "base_uri": "https://localhost:8080/"
        },
        "id": "ZuAbaept-usn",
        "outputId": "391fef88-d3df-48bb-94c8-34da91d59f54"
      },
      "source": [
        "(sklearn.metrics.accuracy_score(pred,y_val) + sklearn.metrics.accuracy_score(pred1,y_train))/2"
      ],
      "execution_count": 433,
      "outputs": [
        {
          "output_type": "execute_result",
          "data": {
            "text/plain": [
              "0.9815625"
            ]
          },
          "metadata": {
            "tags": []
          },
          "execution_count": 433
        }
      ]
    }
  ]
}